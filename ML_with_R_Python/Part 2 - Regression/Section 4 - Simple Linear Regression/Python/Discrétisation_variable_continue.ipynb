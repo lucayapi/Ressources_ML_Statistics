{
 "cells": [
  {
   "cell_type": "markdown",
   "id": "b30a4618",
   "metadata": {},
   "source": [
    "# DISCRETISATION DES VARIABLES CONTINUES "
   ]
  },
  {
   "cell_type": "code",
   "execution_count": 3,
   "id": "8a6e3a28",
   "metadata": {},
   "outputs": [],
   "source": [
    "import numpy as np \n",
    "import matplotlib.pyplot as plt\n",
    "import pandas as pd\n",
    "import os\n",
    "import seaborn as sns"
   ]
  },
  {
   "cell_type": "code",
   "execution_count": 4,
   "id": "638d49cb",
   "metadata": {},
   "outputs": [],
   "source": [
    "os.chdir(r\"C:\\Users\\luc-a\\Desktop\\livre alliage\")"
   ]
  },
  {
   "cell_type": "code",
   "execution_count": 4,
   "id": "abda4c1b",
   "metadata": {},
   "outputs": [],
   "source": [
    "#import data\n",
    "BaseCout=pd.read_csv(\"baseCout.csv\",delimiter=\";\")\n",
    "BaseFreq=pd.read_csv(\"baseFREQ.csv\",delimiter=\";\",error_bad_lines=False)\n",
    "data=pd.read_csv(\"BASE_DEF.csv\",)"
   ]
  },
  {
   "cell_type": "code",
   "execution_count": 5,
   "id": "c1383e18",
   "metadata": {},
   "outputs": [
    {
     "data": {
      "text/plain": [
       "((39075, 22), (6515, 18), (39075, 24))"
      ]
     },
     "execution_count": 5,
     "metadata": {},
     "output_type": "execute_result"
    }
   ],
   "source": [
    "BaseFreq.shape,BaseCout.shape, data.shape"
   ]
  },
  {
   "cell_type": "code",
   "execution_count": 6,
   "id": "1c7d7942",
   "metadata": {},
   "outputs": [
    {
     "data": {
      "text/html": [
       "<div>\n",
       "<style scoped>\n",
       "    .dataframe tbody tr th:only-of-type {\n",
       "        vertical-align: middle;\n",
       "    }\n",
       "\n",
       "    .dataframe tbody tr th {\n",
       "        vertical-align: top;\n",
       "    }\n",
       "\n",
       "    .dataframe thead th {\n",
       "        text-align: right;\n",
       "    }\n",
       "</style>\n",
       "<table border=\"1\" class=\"dataframe\">\n",
       "  <thead>\n",
       "    <tr style=\"text-align: right;\">\n",
       "      <th></th>\n",
       "      <th>numeropol</th>\n",
       "      <th>debut_pol</th>\n",
       "      <th>fin_pol</th>\n",
       "      <th>freq_paiement</th>\n",
       "      <th>langue</th>\n",
       "      <th>type_prof</th>\n",
       "      <th>alimentation</th>\n",
       "      <th>type_territoire</th>\n",
       "      <th>utilisation</th>\n",
       "      <th>presence_alarme</th>\n",
       "      <th>marque_voiture</th>\n",
       "      <th>sexe</th>\n",
       "      <th>exposition</th>\n",
       "      <th>age</th>\n",
       "      <th>duree_permis</th>\n",
       "      <th>age_vehicule</th>\n",
       "      <th>i</th>\n",
       "      <th>coutsin</th>\n",
       "    </tr>\n",
       "  </thead>\n",
       "  <tbody>\n",
       "    <tr>\n",
       "      <th>0</th>\n",
       "      <td>6</td>\n",
       "      <td>1995-03-01</td>\n",
       "      <td>1996-02-27</td>\n",
       "      <td>annuel</td>\n",
       "      <td>A</td>\n",
       "      <td>Technicien</td>\n",
       "      <td>Carnivore</td>\n",
       "      <td>Urbain</td>\n",
       "      <td>Travail-occasionnel</td>\n",
       "      <td>oui</td>\n",
       "      <td>NISSAN</td>\n",
       "      <td>M</td>\n",
       "      <td>0.994521</td>\n",
       "      <td>42</td>\n",
       "      <td>21</td>\n",
       "      <td>19</td>\n",
       "      <td>1</td>\n",
       "      <td>279.583851</td>\n",
       "    </tr>\n",
       "    <tr>\n",
       "      <th>1</th>\n",
       "      <td>27</td>\n",
       "      <td>1997-04-12</td>\n",
       "      <td>1997-07-10</td>\n",
       "      <td>mensuel</td>\n",
       "      <td>F</td>\n",
       "      <td>Technicien</td>\n",
       "      <td>Carnivore</td>\n",
       "      <td>Semi-urbain</td>\n",
       "      <td>Travail-occasionnel</td>\n",
       "      <td>oui</td>\n",
       "      <td>HONDA</td>\n",
       "      <td>M</td>\n",
       "      <td>0.243836</td>\n",
       "      <td>51</td>\n",
       "      <td>22</td>\n",
       "      <td>24</td>\n",
       "      <td>1</td>\n",
       "      <td>814.167702</td>\n",
       "    </tr>\n",
       "    <tr>\n",
       "      <th>2</th>\n",
       "      <td>27</td>\n",
       "      <td>1999-04-12</td>\n",
       "      <td>2000-04-11</td>\n",
       "      <td>mensuel</td>\n",
       "      <td>F</td>\n",
       "      <td>Technicien</td>\n",
       "      <td>Carnivore</td>\n",
       "      <td>Semi-urbain</td>\n",
       "      <td>Travail-occasionnel</td>\n",
       "      <td>non</td>\n",
       "      <td>HONDA</td>\n",
       "      <td>M</td>\n",
       "      <td>1.000000</td>\n",
       "      <td>53</td>\n",
       "      <td>24</td>\n",
       "      <td>16</td>\n",
       "      <td>1</td>\n",
       "      <td>136.863354</td>\n",
       "    </tr>\n",
       "    <tr>\n",
       "      <th>3</th>\n",
       "      <td>76</td>\n",
       "      <td>1999-03-29</td>\n",
       "      <td>2000-03-28</td>\n",
       "      <td>mensuel</td>\n",
       "      <td>F</td>\n",
       "      <td>Technicien</td>\n",
       "      <td>Carnivore</td>\n",
       "      <td>Urbain</td>\n",
       "      <td>Travail-occasionnel</td>\n",
       "      <td>non</td>\n",
       "      <td>FORD</td>\n",
       "      <td>F</td>\n",
       "      <td>1.000000</td>\n",
       "      <td>42</td>\n",
       "      <td>21</td>\n",
       "      <td>15</td>\n",
       "      <td>1</td>\n",
       "      <td>608.726708</td>\n",
       "    </tr>\n",
       "    <tr>\n",
       "      <th>4</th>\n",
       "      <td>76</td>\n",
       "      <td>2001-03-29</td>\n",
       "      <td>2002-03-28</td>\n",
       "      <td>mensuel</td>\n",
       "      <td>F</td>\n",
       "      <td>Technicien</td>\n",
       "      <td>Carnivore</td>\n",
       "      <td>Urbain</td>\n",
       "      <td>Travail-occasionnel</td>\n",
       "      <td>non</td>\n",
       "      <td>FORD</td>\n",
       "      <td>F</td>\n",
       "      <td>0.997260</td>\n",
       "      <td>44</td>\n",
       "      <td>23</td>\n",
       "      <td>15</td>\n",
       "      <td>1</td>\n",
       "      <td>18687.434783</td>\n",
       "    </tr>\n",
       "  </tbody>\n",
       "</table>\n",
       "</div>"
      ],
      "text/plain": [
       "   numeropol   debut_pol     fin_pol freq_paiement langue   type_prof  \\\n",
       "0          6  1995-03-01  1996-02-27        annuel      A  Technicien   \n",
       "1         27  1997-04-12  1997-07-10       mensuel      F  Technicien   \n",
       "2         27  1999-04-12  2000-04-11       mensuel      F  Technicien   \n",
       "3         76  1999-03-29  2000-03-28       mensuel      F  Technicien   \n",
       "4         76  2001-03-29  2002-03-28       mensuel      F  Technicien   \n",
       "\n",
       "  alimentation type_territoire          utilisation presence_alarme  \\\n",
       "0    Carnivore          Urbain  Travail-occasionnel             oui   \n",
       "1    Carnivore     Semi-urbain  Travail-occasionnel             oui   \n",
       "2    Carnivore     Semi-urbain  Travail-occasionnel             non   \n",
       "3    Carnivore          Urbain  Travail-occasionnel             non   \n",
       "4    Carnivore          Urbain  Travail-occasionnel             non   \n",
       "\n",
       "  marque_voiture sexe  exposition  age  duree_permis  age_vehicule  i  \\\n",
       "0         NISSAN    M    0.994521   42            21            19  1   \n",
       "1          HONDA    M    0.243836   51            22            24  1   \n",
       "2          HONDA    M    1.000000   53            24            16  1   \n",
       "3           FORD    F    1.000000   42            21            15  1   \n",
       "4           FORD    F    0.997260   44            23            15  1   \n",
       "\n",
       "        coutsin  \n",
       "0    279.583851  \n",
       "1    814.167702  \n",
       "2    136.863354  \n",
       "3    608.726708  \n",
       "4  18687.434783  "
      ]
     },
     "execution_count": 6,
     "metadata": {},
     "output_type": "execute_result"
    }
   ],
   "source": [
    "BaseCout.head()"
   ]
  },
  {
   "cell_type": "code",
   "execution_count": 7,
   "id": "3a300f98",
   "metadata": {},
   "outputs": [
    {
     "ename": "NameError",
     "evalue": "name 'BaseFREQ' is not defined",
     "output_type": "error",
     "traceback": [
      "\u001b[1;31m---------------------------------------------------------------------------\u001b[0m",
      "\u001b[1;31mNameError\u001b[0m                                 Traceback (most recent call last)",
      "\u001b[1;32m<ipython-input-7-bd97074b5582>\u001b[0m in \u001b[0;36m<module>\u001b[1;34m\u001b[0m\n\u001b[1;32m----> 1\u001b[1;33m \u001b[0mBaseFREQ\u001b[0m\u001b[1;33m.\u001b[0m\u001b[0mhead\u001b[0m\u001b[1;33m(\u001b[0m\u001b[1;33m)\u001b[0m\u001b[1;33m\u001b[0m\u001b[1;33m\u001b[0m\u001b[0m\n\u001b[0m",
      "\u001b[1;31mNameError\u001b[0m: name 'BaseFREQ' is not defined"
     ]
    }
   ],
   "source": [
    "BaseFREQ.head()"
   ]
  },
  {
   "cell_type": "code",
   "execution_count": 8,
   "id": "90078ae6",
   "metadata": {
    "scrolled": true
   },
   "outputs": [
    {
     "data": {
      "text/html": [
       "<div>\n",
       "<style scoped>\n",
       "    .dataframe tbody tr th:only-of-type {\n",
       "        vertical-align: middle;\n",
       "    }\n",
       "\n",
       "    .dataframe tbody tr th {\n",
       "        vertical-align: top;\n",
       "    }\n",
       "\n",
       "    .dataframe thead th {\n",
       "        text-align: right;\n",
       "    }\n",
       "</style>\n",
       "<table border=\"1\" class=\"dataframe\">\n",
       "  <thead>\n",
       "    <tr style=\"text-align: right;\">\n",
       "      <th></th>\n",
       "      <th>Unnamed: 0</th>\n",
       "      <th>numeropol</th>\n",
       "      <th>debut_pol</th>\n",
       "      <th>fin_pol</th>\n",
       "      <th>freq_paiement</th>\n",
       "      <th>langue</th>\n",
       "      <th>type_prof</th>\n",
       "      <th>alimentation</th>\n",
       "      <th>type_territoire</th>\n",
       "      <th>utilisation</th>\n",
       "      <th>...</th>\n",
       "      <th>cout2</th>\n",
       "      <th>cout3</th>\n",
       "      <th>cout4</th>\n",
       "      <th>nbsin</th>\n",
       "      <th>exposition</th>\n",
       "      <th>cout</th>\n",
       "      <th>age</th>\n",
       "      <th>duree_permis</th>\n",
       "      <th>annee_vehicule</th>\n",
       "      <th>coutsin</th>\n",
       "    </tr>\n",
       "  </thead>\n",
       "  <tbody>\n",
       "    <tr>\n",
       "      <th>0</th>\n",
       "      <td>0</td>\n",
       "      <td>3</td>\n",
       "      <td>1995-09-14</td>\n",
       "      <td>1996-04-24</td>\n",
       "      <td>mensuel</td>\n",
       "      <td>F</td>\n",
       "      <td>Technicien</td>\n",
       "      <td>V�g�tarien</td>\n",
       "      <td>Urbain</td>\n",
       "      <td>Travail-quotidien</td>\n",
       "      <td>...</td>\n",
       "      <td>NaN</td>\n",
       "      <td>NaN</td>\n",
       "      <td>NaN</td>\n",
       "      <td>0</td>\n",
       "      <td>0.610959</td>\n",
       "      <td>NaN</td>\n",
       "      <td>29</td>\n",
       "      <td>10</td>\n",
       "      <td>1989</td>\n",
       "      <td>0.000000</td>\n",
       "    </tr>\n",
       "    <tr>\n",
       "      <th>1</th>\n",
       "      <td>1</td>\n",
       "      <td>3</td>\n",
       "      <td>1996-04-25</td>\n",
       "      <td>1996-12-23</td>\n",
       "      <td>mensuel</td>\n",
       "      <td>F</td>\n",
       "      <td>Technicien</td>\n",
       "      <td>V�g�tarien</td>\n",
       "      <td>Urbain</td>\n",
       "      <td>Travail-quotidien</td>\n",
       "      <td>...</td>\n",
       "      <td>NaN</td>\n",
       "      <td>NaN</td>\n",
       "      <td>NaN</td>\n",
       "      <td>0</td>\n",
       "      <td>0.663014</td>\n",
       "      <td>NaN</td>\n",
       "      <td>30</td>\n",
       "      <td>11</td>\n",
       "      <td>1989</td>\n",
       "      <td>0.000000</td>\n",
       "    </tr>\n",
       "    <tr>\n",
       "      <th>2</th>\n",
       "      <td>2</td>\n",
       "      <td>6</td>\n",
       "      <td>1995-03-01</td>\n",
       "      <td>1996-02-27</td>\n",
       "      <td>annuel</td>\n",
       "      <td>A</td>\n",
       "      <td>Technicien</td>\n",
       "      <td>Carnivore</td>\n",
       "      <td>Urbain</td>\n",
       "      <td>Travail-occasionnel</td>\n",
       "      <td>...</td>\n",
       "      <td>NaN</td>\n",
       "      <td>NaN</td>\n",
       "      <td>NaN</td>\n",
       "      <td>1</td>\n",
       "      <td>0.994521</td>\n",
       "      <td>279.58</td>\n",
       "      <td>42</td>\n",
       "      <td>21</td>\n",
       "      <td>1994</td>\n",
       "      <td>279.583851</td>\n",
       "    </tr>\n",
       "    <tr>\n",
       "      <th>3</th>\n",
       "      <td>3</td>\n",
       "      <td>6</td>\n",
       "      <td>1996-03-01</td>\n",
       "      <td>1997-01-14</td>\n",
       "      <td>annuel</td>\n",
       "      <td>A</td>\n",
       "      <td>Technicien</td>\n",
       "      <td>Carnivore</td>\n",
       "      <td>Urbain</td>\n",
       "      <td>Travail-occasionnel</td>\n",
       "      <td>...</td>\n",
       "      <td>NaN</td>\n",
       "      <td>NaN</td>\n",
       "      <td>NaN</td>\n",
       "      <td>0</td>\n",
       "      <td>0.873973</td>\n",
       "      <td>NaN</td>\n",
       "      <td>43</td>\n",
       "      <td>22</td>\n",
       "      <td>1994</td>\n",
       "      <td>0.000000</td>\n",
       "    </tr>\n",
       "    <tr>\n",
       "      <th>4</th>\n",
       "      <td>4</td>\n",
       "      <td>6</td>\n",
       "      <td>1997-01-15</td>\n",
       "      <td>1997-01-31</td>\n",
       "      <td>annuel</td>\n",
       "      <td>A</td>\n",
       "      <td>Technicien</td>\n",
       "      <td>Carnivore</td>\n",
       "      <td>Urbain</td>\n",
       "      <td>Travail-occasionnel</td>\n",
       "      <td>...</td>\n",
       "      <td>NaN</td>\n",
       "      <td>NaN</td>\n",
       "      <td>NaN</td>\n",
       "      <td>0</td>\n",
       "      <td>0.043836</td>\n",
       "      <td>NaN</td>\n",
       "      <td>44</td>\n",
       "      <td>23</td>\n",
       "      <td>1994</td>\n",
       "      <td>0.000000</td>\n",
       "    </tr>\n",
       "  </tbody>\n",
       "</table>\n",
       "<p>5 rows × 24 columns</p>\n",
       "</div>"
      ],
      "text/plain": [
       "   Unnamed: 0  numeropol   debut_pol     fin_pol freq_paiement langue  \\\n",
       "0           0          3  1995-09-14  1996-04-24       mensuel      F   \n",
       "1           1          3  1996-04-25  1996-12-23       mensuel      F   \n",
       "2           2          6  1995-03-01  1996-02-27        annuel      A   \n",
       "3           3          6  1996-03-01  1997-01-14        annuel      A   \n",
       "4           4          6  1997-01-15  1997-01-31        annuel      A   \n",
       "\n",
       "    type_prof alimentation type_territoire          utilisation  ... cout2  \\\n",
       "0  Technicien   V�g�tarien          Urbain    Travail-quotidien  ...   NaN   \n",
       "1  Technicien   V�g�tarien          Urbain    Travail-quotidien  ...   NaN   \n",
       "2  Technicien    Carnivore          Urbain  Travail-occasionnel  ...   NaN   \n",
       "3  Technicien    Carnivore          Urbain  Travail-occasionnel  ...   NaN   \n",
       "4  Technicien    Carnivore          Urbain  Travail-occasionnel  ...   NaN   \n",
       "\n",
       "  cout3 cout4  nbsin  exposition    cout  age  duree_permis  annee_vehicule  \\\n",
       "0   NaN   NaN      0    0.610959     NaN   29            10            1989   \n",
       "1   NaN   NaN      0    0.663014     NaN   30            11            1989   \n",
       "2   NaN   NaN      1    0.994521  279.58   42            21            1994   \n",
       "3   NaN   NaN      0    0.873973     NaN   43            22            1994   \n",
       "4   NaN   NaN      0    0.043836     NaN   44            23            1994   \n",
       "\n",
       "      coutsin  \n",
       "0    0.000000  \n",
       "1    0.000000  \n",
       "2  279.583851  \n",
       "3    0.000000  \n",
       "4    0.000000  \n",
       "\n",
       "[5 rows x 24 columns]"
      ]
     },
     "execution_count": 8,
     "metadata": {},
     "output_type": "execute_result"
    }
   ],
   "source": [
    "data.head()"
   ]
  },
  {
   "cell_type": "code",
   "execution_count": 9,
   "id": "43b82beb",
   "metadata": {},
   "outputs": [
    {
     "data": {
      "text/plain": [
       "Index(['Unnamed: 0', 'numeropol', 'debut_pol', 'fin_pol', 'freq_paiement',\n",
       "       'langue', 'type_prof', 'alimentation', 'type_territoire', 'utilisation',\n",
       "       'presence_alarme', 'marque_voiture', 'sexe', 'cout1', 'cout2', 'cout3',\n",
       "       'cout4', 'nbsin', 'exposition', 'cout', 'age', 'duree_permis',\n",
       "       'annee_vehicule', 'coutsin'],\n",
       "      dtype='object')"
      ]
     },
     "execution_count": 9,
     "metadata": {},
     "output_type": "execute_result"
    }
   ],
   "source": [
    "data.columns"
   ]
  },
  {
   "cell_type": "code",
   "execution_count": 10,
   "id": "538d85bd",
   "metadata": {},
   "outputs": [
    {
     "data": {
      "text/plain": [
       "Index(['numeropol', 'debut_pol', 'fin_pol', 'freq_paiement', 'langue',\n",
       "       'type_prof', 'alimentation', 'type_territoire', 'utilisation',\n",
       "       'presence_alarme', 'marque_voiture', 'sexe', 'cout1', 'cout2', 'cout3',\n",
       "       'cout4', 'nbsin', 'exposition', 'cout', 'age', 'duree_permis',\n",
       "       'annee_vehicule'],\n",
       "      dtype='object')"
      ]
     },
     "execution_count": 10,
     "metadata": {},
     "output_type": "execute_result"
    }
   ],
   "source": [
    "BaseFreq.columns"
   ]
  },
  {
   "cell_type": "code",
   "execution_count": 11,
   "id": "ad5f4910",
   "metadata": {},
   "outputs": [
    {
     "data": {
      "text/plain": [
       "Index(['numeropol', 'debut_pol', 'fin_pol', 'freq_paiement', 'langue',\n",
       "       'type_prof', 'alimentation', 'type_territoire', 'utilisation',\n",
       "       'presence_alarme', 'marque_voiture', 'sexe', 'exposition', 'age',\n",
       "       'duree_permis', 'age_vehicule', 'i', 'coutsin'],\n",
       "      dtype='object')"
      ]
     },
     "execution_count": 11,
     "metadata": {},
     "output_type": "execute_result"
    }
   ],
   "source": [
    "BaseCout.columns"
   ]
  },
  {
   "cell_type": "code",
   "execution_count": 12,
   "id": "a6b7a450",
   "metadata": {},
   "outputs": [
    {
     "name": "stdout",
     "output_type": "stream",
     "text": [
      "<class 'pandas.core.frame.DataFrame'>\n",
      "RangeIndex: 39075 entries, 0 to 39074\n",
      "Data columns (total 24 columns):\n",
      " #   Column           Non-Null Count  Dtype  \n",
      "---  ------           --------------  -----  \n",
      " 0   Unnamed: 0       39075 non-null  int64  \n",
      " 1   numeropol        39075 non-null  int64  \n",
      " 2   debut_pol        39075 non-null  object \n",
      " 3   fin_pol          39075 non-null  object \n",
      " 4   freq_paiement    39075 non-null  object \n",
      " 5   langue           39075 non-null  object \n",
      " 6   type_prof        39075 non-null  object \n",
      " 7   alimentation     39075 non-null  object \n",
      " 8   type_territoire  39075 non-null  object \n",
      " 9   utilisation      39075 non-null  object \n",
      " 10  presence_alarme  39075 non-null  object \n",
      " 11  marque_voiture   39075 non-null  object \n",
      " 12  sexe             39075 non-null  object \n",
      " 13  cout1            5689 non-null   float64\n",
      " 14  cout2            732 non-null    float64\n",
      " 15  cout3            86 non-null     float64\n",
      " 16  cout4            8 non-null      float64\n",
      " 17  nbsin            39075 non-null  int64  \n",
      " 18  exposition       39075 non-null  float64\n",
      " 19  cout             5689 non-null   object \n",
      " 20  age              39075 non-null  int64  \n",
      " 21  duree_permis     39075 non-null  int64  \n",
      " 22  annee_vehicule   39075 non-null  int64  \n",
      " 23  coutsin          39075 non-null  float64\n",
      "dtypes: float64(6), int64(6), object(12)\n",
      "memory usage: 7.2+ MB\n"
     ]
    }
   ],
   "source": [
    "data.info()"
   ]
  },
  {
   "cell_type": "code",
   "execution_count": 13,
   "id": "6193e6d7",
   "metadata": {},
   "outputs": [],
   "source": [
    "#drop first column and numeropol\n",
    "data=data.drop(['Unnamed: 0','numeropol'], axis=1)"
   ]
  },
  {
   "cell_type": "code",
   "execution_count": 14,
   "id": "dad634eb",
   "metadata": {},
   "outputs": [
    {
     "data": {
      "text/html": [
       "<div>\n",
       "<style scoped>\n",
       "    .dataframe tbody tr th:only-of-type {\n",
       "        vertical-align: middle;\n",
       "    }\n",
       "\n",
       "    .dataframe tbody tr th {\n",
       "        vertical-align: top;\n",
       "    }\n",
       "\n",
       "    .dataframe thead th {\n",
       "        text-align: right;\n",
       "    }\n",
       "</style>\n",
       "<table border=\"1\" class=\"dataframe\">\n",
       "  <thead>\n",
       "    <tr style=\"text-align: right;\">\n",
       "      <th></th>\n",
       "      <th>debut_pol</th>\n",
       "      <th>fin_pol</th>\n",
       "      <th>freq_paiement</th>\n",
       "      <th>langue</th>\n",
       "      <th>type_prof</th>\n",
       "      <th>alimentation</th>\n",
       "      <th>type_territoire</th>\n",
       "      <th>utilisation</th>\n",
       "      <th>presence_alarme</th>\n",
       "      <th>marque_voiture</th>\n",
       "      <th>...</th>\n",
       "      <th>cout2</th>\n",
       "      <th>cout3</th>\n",
       "      <th>cout4</th>\n",
       "      <th>nbsin</th>\n",
       "      <th>exposition</th>\n",
       "      <th>cout</th>\n",
       "      <th>age</th>\n",
       "      <th>duree_permis</th>\n",
       "      <th>annee_vehicule</th>\n",
       "      <th>coutsin</th>\n",
       "    </tr>\n",
       "  </thead>\n",
       "  <tbody>\n",
       "    <tr>\n",
       "      <th>0</th>\n",
       "      <td>1995-09-14</td>\n",
       "      <td>1996-04-24</td>\n",
       "      <td>mensuel</td>\n",
       "      <td>F</td>\n",
       "      <td>Technicien</td>\n",
       "      <td>V�g�tarien</td>\n",
       "      <td>Urbain</td>\n",
       "      <td>Travail-quotidien</td>\n",
       "      <td>non</td>\n",
       "      <td>VOLKSWAGEN</td>\n",
       "      <td>...</td>\n",
       "      <td>NaN</td>\n",
       "      <td>NaN</td>\n",
       "      <td>NaN</td>\n",
       "      <td>0</td>\n",
       "      <td>0.610959</td>\n",
       "      <td>NaN</td>\n",
       "      <td>29</td>\n",
       "      <td>10</td>\n",
       "      <td>1989</td>\n",
       "      <td>0.000000</td>\n",
       "    </tr>\n",
       "    <tr>\n",
       "      <th>1</th>\n",
       "      <td>1996-04-25</td>\n",
       "      <td>1996-12-23</td>\n",
       "      <td>mensuel</td>\n",
       "      <td>F</td>\n",
       "      <td>Technicien</td>\n",
       "      <td>V�g�tarien</td>\n",
       "      <td>Urbain</td>\n",
       "      <td>Travail-quotidien</td>\n",
       "      <td>non</td>\n",
       "      <td>VOLKSWAGEN</td>\n",
       "      <td>...</td>\n",
       "      <td>NaN</td>\n",
       "      <td>NaN</td>\n",
       "      <td>NaN</td>\n",
       "      <td>0</td>\n",
       "      <td>0.663014</td>\n",
       "      <td>NaN</td>\n",
       "      <td>30</td>\n",
       "      <td>11</td>\n",
       "      <td>1989</td>\n",
       "      <td>0.000000</td>\n",
       "    </tr>\n",
       "    <tr>\n",
       "      <th>2</th>\n",
       "      <td>1995-03-01</td>\n",
       "      <td>1996-02-27</td>\n",
       "      <td>annuel</td>\n",
       "      <td>A</td>\n",
       "      <td>Technicien</td>\n",
       "      <td>Carnivore</td>\n",
       "      <td>Urbain</td>\n",
       "      <td>Travail-occasionnel</td>\n",
       "      <td>oui</td>\n",
       "      <td>NISSAN</td>\n",
       "      <td>...</td>\n",
       "      <td>NaN</td>\n",
       "      <td>NaN</td>\n",
       "      <td>NaN</td>\n",
       "      <td>1</td>\n",
       "      <td>0.994521</td>\n",
       "      <td>279.58</td>\n",
       "      <td>42</td>\n",
       "      <td>21</td>\n",
       "      <td>1994</td>\n",
       "      <td>279.583851</td>\n",
       "    </tr>\n",
       "    <tr>\n",
       "      <th>3</th>\n",
       "      <td>1996-03-01</td>\n",
       "      <td>1997-01-14</td>\n",
       "      <td>annuel</td>\n",
       "      <td>A</td>\n",
       "      <td>Technicien</td>\n",
       "      <td>Carnivore</td>\n",
       "      <td>Urbain</td>\n",
       "      <td>Travail-occasionnel</td>\n",
       "      <td>oui</td>\n",
       "      <td>NISSAN</td>\n",
       "      <td>...</td>\n",
       "      <td>NaN</td>\n",
       "      <td>NaN</td>\n",
       "      <td>NaN</td>\n",
       "      <td>0</td>\n",
       "      <td>0.873973</td>\n",
       "      <td>NaN</td>\n",
       "      <td>43</td>\n",
       "      <td>22</td>\n",
       "      <td>1994</td>\n",
       "      <td>0.000000</td>\n",
       "    </tr>\n",
       "    <tr>\n",
       "      <th>4</th>\n",
       "      <td>1997-01-15</td>\n",
       "      <td>1997-01-31</td>\n",
       "      <td>annuel</td>\n",
       "      <td>A</td>\n",
       "      <td>Technicien</td>\n",
       "      <td>Carnivore</td>\n",
       "      <td>Urbain</td>\n",
       "      <td>Travail-occasionnel</td>\n",
       "      <td>oui</td>\n",
       "      <td>NISSAN</td>\n",
       "      <td>...</td>\n",
       "      <td>NaN</td>\n",
       "      <td>NaN</td>\n",
       "      <td>NaN</td>\n",
       "      <td>0</td>\n",
       "      <td>0.043836</td>\n",
       "      <td>NaN</td>\n",
       "      <td>44</td>\n",
       "      <td>23</td>\n",
       "      <td>1994</td>\n",
       "      <td>0.000000</td>\n",
       "    </tr>\n",
       "  </tbody>\n",
       "</table>\n",
       "<p>5 rows × 22 columns</p>\n",
       "</div>"
      ],
      "text/plain": [
       "    debut_pol     fin_pol freq_paiement langue   type_prof alimentation  \\\n",
       "0  1995-09-14  1996-04-24       mensuel      F  Technicien   V�g�tarien   \n",
       "1  1996-04-25  1996-12-23       mensuel      F  Technicien   V�g�tarien   \n",
       "2  1995-03-01  1996-02-27        annuel      A  Technicien    Carnivore   \n",
       "3  1996-03-01  1997-01-14        annuel      A  Technicien    Carnivore   \n",
       "4  1997-01-15  1997-01-31        annuel      A  Technicien    Carnivore   \n",
       "\n",
       "  type_territoire          utilisation presence_alarme marque_voiture  ...  \\\n",
       "0          Urbain    Travail-quotidien             non     VOLKSWAGEN  ...   \n",
       "1          Urbain    Travail-quotidien             non     VOLKSWAGEN  ...   \n",
       "2          Urbain  Travail-occasionnel             oui         NISSAN  ...   \n",
       "3          Urbain  Travail-occasionnel             oui         NISSAN  ...   \n",
       "4          Urbain  Travail-occasionnel             oui         NISSAN  ...   \n",
       "\n",
       "  cout2  cout3  cout4  nbsin  exposition    cout  age duree_permis  \\\n",
       "0   NaN    NaN    NaN      0    0.610959     NaN   29           10   \n",
       "1   NaN    NaN    NaN      0    0.663014     NaN   30           11   \n",
       "2   NaN    NaN    NaN      1    0.994521  279.58   42           21   \n",
       "3   NaN    NaN    NaN      0    0.873973     NaN   43           22   \n",
       "4   NaN    NaN    NaN      0    0.043836     NaN   44           23   \n",
       "\n",
       "   annee_vehicule     coutsin  \n",
       "0            1989    0.000000  \n",
       "1            1989    0.000000  \n",
       "2            1994  279.583851  \n",
       "3            1994    0.000000  \n",
       "4            1994    0.000000  \n",
       "\n",
       "[5 rows x 22 columns]"
      ]
     },
     "execution_count": 14,
     "metadata": {},
     "output_type": "execute_result"
    }
   ],
   "source": [
    "data.head()"
   ]
  },
  {
   "cell_type": "code",
   "execution_count": 15,
   "id": "87256300",
   "metadata": {},
   "outputs": [],
   "source": [
    "def missing_values_table(df):\n",
    "    #total missing values\n",
    "    miss_val = df.isnull().sum()\n",
    "    \n",
    "    #Percentage of missing values \n",
    "    mis_val_percent = 100* df.isnull().sum() / len(df)\n",
    "    \n",
    "    #make a table with the results\n",
    "    mis_val_table=pd.concat([miss_val,mis_val_percent],axis=1)\n",
    "    \n",
    "    #rename the columns \n",
    "    mis_val_table_ren_columns=mis_val_table.rename(columns={0 : 'Missing Values', 1: '% of Total Values'})\n",
    "    \n",
    "    #sort the table by percentage of missing descending \n",
    "    mis_val_table_ren_columns=mis_val_table_ren_columns[mis_val_table_ren_columns.iloc[:,1] != 0].sort_values(\n",
    "        '% of Total Values', ascending=False).round(1)\n",
    "\n",
    "    return mis_val_table_ren_columns\n"
   ]
  },
  {
   "cell_type": "code",
   "execution_count": 16,
   "id": "e013e70a",
   "metadata": {},
   "outputs": [
    {
     "data": {
      "text/html": [
       "<div>\n",
       "<style scoped>\n",
       "    .dataframe tbody tr th:only-of-type {\n",
       "        vertical-align: middle;\n",
       "    }\n",
       "\n",
       "    .dataframe tbody tr th {\n",
       "        vertical-align: top;\n",
       "    }\n",
       "\n",
       "    .dataframe thead th {\n",
       "        text-align: right;\n",
       "    }\n",
       "</style>\n",
       "<table border=\"1\" class=\"dataframe\">\n",
       "  <thead>\n",
       "    <tr style=\"text-align: right;\">\n",
       "      <th></th>\n",
       "      <th>Missing Values</th>\n",
       "      <th>% of Total Values</th>\n",
       "    </tr>\n",
       "  </thead>\n",
       "  <tbody>\n",
       "    <tr>\n",
       "      <th>cout4</th>\n",
       "      <td>39067</td>\n",
       "      <td>100.0</td>\n",
       "    </tr>\n",
       "    <tr>\n",
       "      <th>cout3</th>\n",
       "      <td>38989</td>\n",
       "      <td>99.8</td>\n",
       "    </tr>\n",
       "    <tr>\n",
       "      <th>cout2</th>\n",
       "      <td>38343</td>\n",
       "      <td>98.1</td>\n",
       "    </tr>\n",
       "    <tr>\n",
       "      <th>cout1</th>\n",
       "      <td>33386</td>\n",
       "      <td>85.4</td>\n",
       "    </tr>\n",
       "    <tr>\n",
       "      <th>cout</th>\n",
       "      <td>33386</td>\n",
       "      <td>85.4</td>\n",
       "    </tr>\n",
       "  </tbody>\n",
       "</table>\n",
       "</div>"
      ],
      "text/plain": [
       "       Missing Values  % of Total Values\n",
       "cout4           39067              100.0\n",
       "cout3           38989               99.8\n",
       "cout2           38343               98.1\n",
       "cout1           33386               85.4\n",
       "cout            33386               85.4"
      ]
     },
     "execution_count": 16,
     "metadata": {},
     "output_type": "execute_result"
    }
   ],
   "source": [
    "missing_values_table(data)"
   ]
  },
  {
   "cell_type": "code",
   "execution_count": 17,
   "id": "bcabe6b3",
   "metadata": {},
   "outputs": [
    {
     "data": {
      "text/plain": [
       "[dtype('O'), dtype('int64'), dtype('float64')]"
      ]
     },
     "execution_count": 17,
     "metadata": {},
     "output_type": "execute_result"
    }
   ],
   "source": [
    "list(set(data.dtypes.tolist()))"
   ]
  },
  {
   "cell_type": "code",
   "execution_count": 18,
   "id": "3cfb3d54",
   "metadata": {},
   "outputs": [
    {
     "data": {
      "text/html": [
       "<div>\n",
       "<style scoped>\n",
       "    .dataframe tbody tr th:only-of-type {\n",
       "        vertical-align: middle;\n",
       "    }\n",
       "\n",
       "    .dataframe tbody tr th {\n",
       "        vertical-align: top;\n",
       "    }\n",
       "\n",
       "    .dataframe thead th {\n",
       "        text-align: right;\n",
       "    }\n",
       "</style>\n",
       "<table border=\"1\" class=\"dataframe\">\n",
       "  <thead>\n",
       "    <tr style=\"text-align: right;\">\n",
       "      <th></th>\n",
       "      <th>age</th>\n",
       "      <th>duree_permis</th>\n",
       "      <th>annee_vehicule</th>\n",
       "    </tr>\n",
       "  </thead>\n",
       "  <tbody>\n",
       "    <tr>\n",
       "      <th>0</th>\n",
       "      <td>29</td>\n",
       "      <td>10</td>\n",
       "      <td>1989</td>\n",
       "    </tr>\n",
       "    <tr>\n",
       "      <th>1</th>\n",
       "      <td>30</td>\n",
       "      <td>11</td>\n",
       "      <td>1989</td>\n",
       "    </tr>\n",
       "    <tr>\n",
       "      <th>2</th>\n",
       "      <td>42</td>\n",
       "      <td>21</td>\n",
       "      <td>1994</td>\n",
       "    </tr>\n",
       "    <tr>\n",
       "      <th>3</th>\n",
       "      <td>43</td>\n",
       "      <td>22</td>\n",
       "      <td>1994</td>\n",
       "    </tr>\n",
       "    <tr>\n",
       "      <th>4</th>\n",
       "      <td>44</td>\n",
       "      <td>23</td>\n",
       "      <td>1994</td>\n",
       "    </tr>\n",
       "  </tbody>\n",
       "</table>\n",
       "</div>"
      ],
      "text/plain": [
       "   age  duree_permis  annee_vehicule\n",
       "0   29            10            1989\n",
       "1   30            11            1989\n",
       "2   42            21            1994\n",
       "3   43            22            1994\n",
       "4   44            23            1994"
      ]
     },
     "execution_count": 18,
     "metadata": {},
     "output_type": "execute_result"
    }
   ],
   "source": [
    "#select num variable \n",
    "data_num=data.select_dtypes([\"int64\",\"float64\"])\n",
    "#select variable without cout,nb_sin, exposition\n",
    "var=data_num.columns[data_num.columns.str.startswith(\"c\")].tolist()\n",
    "var.extend([\"nbsin\",\"exposition\"])\n",
    "data_to_discretize=data_num.drop(var,axis=1)\n",
    "data_to_discretize.head()"
   ]
  },
  {
   "cell_type": "markdown",
   "id": "620313b2",
   "metadata": {},
   "source": [
    "## Discrétisation non-supervisée "
   ]
  },
  {
   "cell_type": "markdown",
   "id": "a423c0da",
   "metadata": {},
   "source": [
    "On se base sur la structure de la variable pour faire une `bonne` discrétisation.\n",
    "L'idée de `bonne` discrétisation doit être prise avec des pincettes \n",
    "   - Intuitivement ou en se référant à un cas classique de classification, on veut des classes ou des partitions de notre variable qui soit homogène et séparés ( inertie intra classe faible et inertie interclasse élevée)\n",
    "   - on peut également prendre d'autres critères en compte comme le nombre d'individus dans chaque classe,équirépartion ( meme amplitude,...)\n",
    "   \n",
    "  **Deux questions à répondre :**\n",
    "   1. Quel le nombres de classes à considérer ?\n",
    "   2. Quelles sont les bornes considirées ?\n",
    "   \n",
    "Pour la première question il existe des formules pour les déterminer à l'aveugle mais ces techniques supposent que la distribution de la variable soit **gaussienne**.\n",
    "\n",
    "- **Brook-carruthers**\n",
    "$$ 5 \\times \\log_{10}(N)$$\n",
    "- **HuntsBerger**\n",
    "$$ 1 + 3,332\\log_{10}(N)$$\n",
    "- **Sturges**\n",
    "$$ \\log_2(N + 1)$$\n",
    "- **Scoot** \n",
    "$$ \\frac{max(X)- min(X)}{3.5 \\times \\sigma \\times n^{-1/3}} $$\n",
    "$$h = \\sigma \\sqrt[3]{\\frac{24 * \\sqrt{\\pi}}{n}}$$\n",
    "- **Freedman-Diaconis**\n",
    "$$ \\frac{max(X)- min(X)}{2 \\times IQ \\times n^{-1/3}} $$\n",
    "\n",
    "\n",
    "les deux dernières formules ont l'air plus performante car elle mette en jeu plusieurs caractéristiques de la distribution ( moyenne, écart-types, min , max ) mais cependant elles ont l'air plus sensible au valeurs abérantes\n",
    "\n",
    "Numpy fournit des estimateurs \"amélioriées\" capable de bien se comporter sur des données non-normales (doane)\n",
    "- **Code + Formule**\n",
    "https://github.com/numpy/numpy/blob/v1.21.0/numpy/lib/histograms.py#L470-L670\n",
    "https://en.wikipedia.org/wiki/Histogram#Scott's_normal_reference_rule\n",
    "\n",
    "$$n_h = 1 + \\log_{2}(n) +\n",
    "                        \\log_{2}(1 + \\frac{|g_1|}{\\sigma_{g_1}})$$\n",
    "                        \n",
    "avec $g_1 = mean[(\\frac{x - \\mu}{\\sigma})^3]$ et $\\sigma_{g_1} = \\sqrt{\\frac{6(n - 2)}{(n + 1)(n + 3)}}$\n"
   ]
  },
  {
   "cell_type": "markdown",
   "id": "96e49155",
   "metadata": {},
   "source": [
    "### Représentation des variables et resumés statistiques "
   ]
  },
  {
   "cell_type": "code",
   "execution_count": 19,
   "id": "9b46577e",
   "metadata": {},
   "outputs": [],
   "source": [
    "\n",
    "data_to_discretize.reset_index(inplace=True)\n",
    "var_to_discretize=data_to_discretize.columns[1:].tolist()"
   ]
  },
  {
   "cell_type": "code",
   "execution_count": 20,
   "id": "59534d3e",
   "metadata": {},
   "outputs": [],
   "source": [
    "# Update as needed\n",
    "#n_rows=2\n",
    "#n_cols=20\n",
    "\n",
    "# Create the subplots\n",
    "#fig, axes = plt.subplots(nrows=n_rows, ncols=n_cols, figsize=(100, 100))\n",
    "#for i, column in enumerate(train_num):\n",
    "    #sns.histplot(train_num[column], ax=axes[i // n_cols, i % n_cols]).set_title(column)"
   ]
  },
  {
   "cell_type": "code",
   "execution_count": null,
   "id": "f2aa7ab5",
   "metadata": {},
   "outputs": [],
   "source": [
    "fig, ax = plt.subplots(round(len(var_to_discretize) / 3), 3, figsize = (18, 12))\n",
    "for i, ax in enumerate(fig.axes):\n",
    "    if i < len(var_to_discretize):\n",
    "        sns.scatterplot(x=\"index\",y=var_to_discretize[i], data=data_to_discretize, ax=ax)"
   ]
  },
  {
   "cell_type": "markdown",
   "id": "fe5a49b0",
   "metadata": {},
   "source": [
    "Il y a trop d'observation, il est difficile de se faire une idée de la structure des variables pour faire une hypothèse sur le nombre de classe adéquate"
   ]
  },
  {
   "cell_type": "code",
   "execution_count": null,
   "id": "5076b8f8",
   "metadata": {},
   "outputs": [],
   "source": [
    "fig, ax = plt.subplots(round(len(var_to_discretize) / 3), 3, figsize = (18, 12))\n",
    "for i, ax in enumerate(fig.axes):\n",
    "    if i < len(var_to_discretize):\n",
    "        sns.swarmplot(data_to_discretize[var_to_discretize[i]],ax=ax)"
   ]
  },
  {
   "cell_type": "code",
   "execution_count": null,
   "id": "600bb197",
   "metadata": {},
   "outputs": [],
   "source": [
    "sns.swarmplot(x=data_to_discretize[var_to_discretize[1]])"
   ]
  },
  {
   "cell_type": "code",
   "execution_count": 21,
   "id": "f3335cd5",
   "metadata": {},
   "outputs": [
    {
     "data": {
      "text/html": [
       "<div>\n",
       "<style scoped>\n",
       "    .dataframe tbody tr th:only-of-type {\n",
       "        vertical-align: middle;\n",
       "    }\n",
       "\n",
       "    .dataframe tbody tr th {\n",
       "        vertical-align: top;\n",
       "    }\n",
       "\n",
       "    .dataframe thead th {\n",
       "        text-align: right;\n",
       "    }\n",
       "</style>\n",
       "<table border=\"1\" class=\"dataframe\">\n",
       "  <thead>\n",
       "    <tr style=\"text-align: right;\">\n",
       "      <th></th>\n",
       "      <th>age</th>\n",
       "      <th>duree_permis</th>\n",
       "      <th>annee_vehicule</th>\n",
       "    </tr>\n",
       "  </thead>\n",
       "  <tbody>\n",
       "    <tr>\n",
       "      <th>count</th>\n",
       "      <td>39075.000000</td>\n",
       "      <td>39075.000000</td>\n",
       "      <td>39075.000000</td>\n",
       "    </tr>\n",
       "    <tr>\n",
       "      <th>mean</th>\n",
       "      <td>45.590633</td>\n",
       "      <td>22.151017</td>\n",
       "      <td>1994.363225</td>\n",
       "    </tr>\n",
       "    <tr>\n",
       "      <th>std</th>\n",
       "      <td>12.057312</td>\n",
       "      <td>9.112956</td>\n",
       "      <td>4.439719</td>\n",
       "    </tr>\n",
       "    <tr>\n",
       "      <th>min</th>\n",
       "      <td>18.000000</td>\n",
       "      <td>0.000000</td>\n",
       "      <td>1945.000000</td>\n",
       "    </tr>\n",
       "    <tr>\n",
       "      <th>25%</th>\n",
       "      <td>36.000000</td>\n",
       "      <td>15.000000</td>\n",
       "      <td>1991.000000</td>\n",
       "    </tr>\n",
       "    <tr>\n",
       "      <th>50%</th>\n",
       "      <td>44.000000</td>\n",
       "      <td>22.000000</td>\n",
       "      <td>1995.000000</td>\n",
       "    </tr>\n",
       "    <tr>\n",
       "      <th>75%</th>\n",
       "      <td>54.000000</td>\n",
       "      <td>30.000000</td>\n",
       "      <td>1998.000000</td>\n",
       "    </tr>\n",
       "    <tr>\n",
       "      <th>max</th>\n",
       "      <td>87.000000</td>\n",
       "      <td>77.000000</td>\n",
       "      <td>2003.000000</td>\n",
       "    </tr>\n",
       "    <tr>\n",
       "      <th>rsd</th>\n",
       "      <td>26.446905</td>\n",
       "      <td>41.140122</td>\n",
       "      <td>0.222613</td>\n",
       "    </tr>\n",
       "  </tbody>\n",
       "</table>\n",
       "</div>"
      ],
      "text/plain": [
       "                age  duree_permis  annee_vehicule\n",
       "count  39075.000000  39075.000000    39075.000000\n",
       "mean      45.590633     22.151017     1994.363225\n",
       "std       12.057312      9.112956        4.439719\n",
       "min       18.000000      0.000000     1945.000000\n",
       "25%       36.000000     15.000000     1991.000000\n",
       "50%       44.000000     22.000000     1995.000000\n",
       "75%       54.000000     30.000000     1998.000000\n",
       "max       87.000000     77.000000     2003.000000\n",
       "rsd       26.446905     41.140122        0.222613"
      ]
     },
     "execution_count": 21,
     "metadata": {},
     "output_type": "execute_result"
    }
   ],
   "source": [
    "#summary statistics\n",
    "summary=data_to_discretize.describe()\n",
    "#add relative standard deviation\n",
    "summary.loc[\"rsd\"]=(summary.loc['std']/summary.loc['mean'])*100\n",
    "summary=summary.iloc[:,1:]\n",
    "summary"
   ]
  },
  {
   "cell_type": "code",
   "execution_count": 22,
   "id": "db804065",
   "metadata": {},
   "outputs": [
    {
     "data": {
      "text/plain": [
       "array([1989, 1994, 1998, 2001, 1997, 1992, 1990, 1996, 1991, 1987, 1988,\n",
       "       1999, 1993, 2003, 1984, 2000, 1995, 1986, 1982, 2002, 1983, 1985,\n",
       "       1981, 1974, 1979, 1977, 1980, 1975, 1971, 1967, 1978, 1976, 1952,\n",
       "       1970, 1969, 1945, 1959, 1966], dtype=int64)"
      ]
     },
     "execution_count": 22,
     "metadata": {},
     "output_type": "execute_result"
    }
   ],
   "source": [
    "data_to_discretize.annee_vehicule.unique()"
   ]
  },
  {
   "cell_type": "markdown",
   "id": "1f289147",
   "metadata": {},
   "source": [
    "### Estimations du nombres de classes \n",
    "Tableau en ligne les méthodes d'estimations et en colonnes les variables "
   ]
  },
  {
   "cell_type": "code",
   "execution_count": 23,
   "id": "56c6a6c2",
   "metadata": {},
   "outputs": [],
   "source": [
    "import numpy as np\n",
    "from scipy import stats\n",
    "\n",
    "def FD(x):\n",
    "    \"\"\" Freedman Diaconis Estimator\"\"\"\n",
    "    n = len(x)\n",
    "    IQ = np.percentile(x,75)-np.percentile(x,25)\n",
    "    b=(2*IQ)/ np.power(n, 1/3)\n",
    "    return (np.max(x)-np.min(x)) / b\n",
    "\n",
    "def BC(x):\n",
    "    \"\"\"Brooks-Carruthers Estimator\"\"\"\n",
    "    n = len(x)\n",
    "    return 5*np.log10(n)\n",
    "\n",
    "def HB(x):\n",
    "    \"\"\"Hunsberger Estimator\"\"\"\n",
    "    n=len(x)\n",
    "    return 1+3.332*np.log10(n)\n",
    "\n",
    "def Sc(x):\n",
    "    \"\"\"Scott Estimator\"\"\"\n",
    "    n = len(x)\n",
    "    b=(3.49*np.std(x)) / np.power(n, 1/3)\n",
    "    return (np.max(x)-np.min(x)) / b\n",
    "\n",
    "def St(x):\n",
    "    \"\"\"Sturges Estimator\"\"\"\n",
    "    n = len(x)\n",
    "    return np.log2(n+1)\n",
    "\n",
    "def doane(x):\n",
    "    \"\"\" Doane Estimator,An improved version of Sturges,\n",
    "    better estimates for non-normal datasets\"\"\"\n",
    "    n = len(x)\n",
    "    g1 = stats.skew(x)\n",
    "    sigma_g1 = np.sqrt(6 * (n - 2) / ((n + 1) * (n + 3)))\n",
    "    return  1 + np.log2(n) + np.log2(1 + np.abs(g1) / sigma_g1)"
   ]
  },
  {
   "cell_type": "code",
   "execution_count": 24,
   "id": "4fc2aa68",
   "metadata": {},
   "outputs": [],
   "source": [
    "def summary_estimate(df,var_to_discretize):\n",
    "    estimators={\"Brooks-Carruthers Estimator\":BC,\n",
    "                \"Hunsberger Estimator\":HB,\n",
    "                \"Sturges Estimator\":St,\n",
    "                \"Scott Estimator\":Sc,\n",
    "                \"Freedman Diaconis Estimator\":FD,\n",
    "               \"Doane Estimator\":doane}\n",
    "    c=len(estimators.keys())\n",
    "    l=len(var_to_discretize)\n",
    "    m=np.zeros((l,c))\n",
    "    for i in range(len(var_to_discretize)):\n",
    "        for j,f in enumerate(estimators.values()):\n",
    "            m[i,j]=int(f(df[var_to_discretize[i]])+1)\n",
    "    \n",
    "    summary=pd.DataFrame(m,columns=estimators.keys(),index=var_to_discretize,dtype='int32')\n",
    "    return summary\n"
   ]
  },
  {
   "cell_type": "code",
   "execution_count": 25,
   "id": "56469c11",
   "metadata": {},
   "outputs": [
    {
     "data": {
      "text/html": [
       "<div>\n",
       "<style scoped>\n",
       "    .dataframe tbody tr th:only-of-type {\n",
       "        vertical-align: middle;\n",
       "    }\n",
       "\n",
       "    .dataframe tbody tr th {\n",
       "        vertical-align: top;\n",
       "    }\n",
       "\n",
       "    .dataframe thead th {\n",
       "        text-align: right;\n",
       "    }\n",
       "</style>\n",
       "<table border=\"1\" class=\"dataframe\">\n",
       "  <thead>\n",
       "    <tr style=\"text-align: right;\">\n",
       "      <th></th>\n",
       "      <th>Brooks-Carruthers Estimator</th>\n",
       "      <th>Hunsberger Estimator</th>\n",
       "      <th>Sturges Estimator</th>\n",
       "      <th>Scott Estimator</th>\n",
       "      <th>Freedman Diaconis Estimator</th>\n",
       "      <th>Doane Estimator</th>\n",
       "    </tr>\n",
       "  </thead>\n",
       "  <tbody>\n",
       "    <tr>\n",
       "      <th>age</th>\n",
       "      <td>23</td>\n",
       "      <td>17</td>\n",
       "      <td>16</td>\n",
       "      <td>56</td>\n",
       "      <td>66</td>\n",
       "      <td>22</td>\n",
       "    </tr>\n",
       "    <tr>\n",
       "      <th>duree_permis</th>\n",
       "      <td>23</td>\n",
       "      <td>17</td>\n",
       "      <td>16</td>\n",
       "      <td>83</td>\n",
       "      <td>88</td>\n",
       "      <td>18</td>\n",
       "    </tr>\n",
       "  </tbody>\n",
       "</table>\n",
       "</div>"
      ],
      "text/plain": [
       "              Brooks-Carruthers Estimator  Hunsberger Estimator  \\\n",
       "age                                    23                    17   \n",
       "duree_permis                           23                    17   \n",
       "\n",
       "              Sturges Estimator  Scott Estimator  Freedman Diaconis Estimator  \\\n",
       "age                          16               56                           66   \n",
       "duree_permis                 16               83                           88   \n",
       "\n",
       "              Doane Estimator  \n",
       "age                        22  \n",
       "duree_permis               18  "
      ]
     },
     "execution_count": 25,
     "metadata": {},
     "output_type": "execute_result"
    }
   ],
   "source": [
    "a=summary_estimate(data_num,var_to_discretize[:-1])\n",
    "a"
   ]
  },
  {
   "cell_type": "markdown",
   "id": "d72d12d0",
   "metadata": {},
   "source": [
    "### Estimations du nombres de classes et construction des classes"
   ]
  },
  {
   "cell_type": "code",
   "execution_count": null,
   "id": "f0b0ab81",
   "metadata": {},
   "outputs": [],
   "source": [
    "#number of bins\n",
    "bins=16"
   ]
  },
  {
   "cell_type": "markdown",
   "id": "0ebf2b7e",
   "metadata": {},
   "source": [
    "#### Méthodes des quantiles "
   ]
  },
  {
   "cell_type": "code",
   "execution_count": null,
   "id": "0a5258f7",
   "metadata": {},
   "outputs": [],
   "source": [
    "from sklearn.preprocessing import KBinsDiscretizer\n",
    "Discretizor=KBinsDiscretizer(n_bins=bins,encode=\"ordinal\",strategy=\"quantile\")\n",
    "Discretizor.fit_transform(data_to_discretize.iloc[:,1:])"
   ]
  },
  {
   "cell_type": "markdown",
   "id": "ec823f21",
   "metadata": {},
   "source": [
    "Sklearn fournit une fonction pour discrétiser avec un nombre de classes fixes\n",
    "mais il renvoie les dummies variables plutot que le tableau avec les classes \n",
    "Difficile donc d'interprèter les classes alors!"
   ]
  },
  {
   "cell_type": "code",
   "execution_count": null,
   "id": "7380adac",
   "metadata": {},
   "outputs": [],
   "source": [
    "def quantile_method(df,var_to_discretize,n_bins):\n",
    "    new={}\n",
    "    print()\n",
    "    for i in range(len(var_to_discretize)-1):\n",
    "        quantiles = np.linspace(0, 100, n_bins[i] + 1)\n",
    "        bornes=np.percentile(df[var_to_discretize[i]],quantiles)\n",
    "        new[var_to_discretize[i]]=pd.cut(data_num[var_to_discretize[i]],bornes)\n",
    "    return pd.DataFrame(new)"
   ]
  },
  {
   "cell_type": "code",
   "execution_count": null,
   "id": "7097f250",
   "metadata": {},
   "outputs": [],
   "source": [
    "a=summary_estimate(data_to_discretize,var_to_discretize[:-1])\n",
    "quantile_method(data_to_discretize,var_to_discretize,n_bins=a[\"Sturges Estimator\"])"
   ]
  },
  {
   "cell_type": "markdown",
   "id": "373fbd1d",
   "metadata": {},
   "source": [
    "#### Méthodes des amplitudes "
   ]
  },
  {
   "cell_type": "code",
   "execution_count": null,
   "id": "bb4261e9",
   "metadata": {},
   "outputs": [],
   "source": [
    "from sklearn.preprocessing import KBinsDiscretizer\n",
    "Discretizor=KBinsDiscretizer(n_bins=bins,encode=\"ordinal\",strategy=\"uniform\")\n",
    "Discretizor.fit_transform(data_to_discretize.iloc[:,1:])"
   ]
  },
  {
   "cell_type": "code",
   "execution_count": null,
   "id": "6207b913",
   "metadata": {},
   "outputs": [],
   "source": [
    "def amplitude_method(df,var_to_discretize,n_bins):\n",
    "    new={}\n",
    "    for i in range(len(var_to_discretize)-1):\n",
    "        new[var_to_discretize[i]]=pd.cut(data_num[var_to_discretize[i]],n_bins[i])\n",
    "    return pd.DataFrame(new)"
   ]
  },
  {
   "cell_type": "code",
   "execution_count": null,
   "id": "15a4d386",
   "metadata": {},
   "outputs": [],
   "source": [
    "a=summary_estimate(data_to_discretize,var_to_discretize[:-1])\n",
    "amplitude_method(data_to_discretize,var_to_discretize,n_bins=a[\"Sturges Estimator\"])"
   ]
  },
  {
   "cell_type": "markdown",
   "id": "1884d58c",
   "metadata": {},
   "source": [
    "#### Méthodes des moyennes emboitées"
   ]
  },
  {
   "cell_type": "code",
   "execution_count": null,
   "id": "f98bf3e7",
   "metadata": {},
   "outputs": [],
   "source": [
    "def moyenne_emboitées(df,var)"
   ]
  },
  {
   "cell_type": "code",
   "execution_count": null,
   "id": "8534c8f2",
   "metadata": {},
   "outputs": [],
   "source": [
    "temp=data_num[var_to_discretize[0]].tolist()"
   ]
  },
  {
   "cell_type": "code",
   "execution_count": null,
   "id": "e9449ef4",
   "metadata": {},
   "outputs": [],
   "source": [
    "temp=sorted(temp)\n",
    "m=np.mean(temp)\n",
    "bornes=[m]\n",
    "for i in range(bins):\n",
    "    m1,m2=split_mean(temp,m)\n",
    "    bornes.append()"
   ]
  },
  {
   "cell_type": "code",
   "execution_count": null,
   "id": "d00836e5",
   "metadata": {},
   "outputs": [],
   "source": [
    "def split_mean(x,m):\n",
    "    return (np.mean(x[:round(m)]),np.mean(x[round(m):]))"
   ]
  },
  {
   "cell_type": "code",
   "execution_count": null,
   "id": "820c53ad",
   "metadata": {},
   "outputs": [],
   "source": [
    "temp=sorted(temp)\n",
    "split_mean(temp,30.5)"
   ]
  },
  {
   "cell_type": "code",
   "execution_count": null,
   "id": "f6e56784",
   "metadata": {},
   "outputs": [],
   "source": []
  },
  {
   "cell_type": "markdown",
   "id": "eff2be92",
   "metadata": {},
   "source": [
    "#### Méthodes des différences relatives "
   ]
  },
  {
   "cell_type": "code",
   "execution_count": null,
   "id": "554e39e2",
   "metadata": {},
   "outputs": [],
   "source": [
    "temp=data_num[var_to_discretize[1]].sort_values().reset_index(drop=True)\n",
    "rd=temp.diff(periods=1)[1:]/temp[:-1]\n",
    "rd=rd[~rd.isna()]\n",
    "\n",
    "bornes=temp[:-1][rd>0.5]\n",
    "bornes"
   ]
  },
  {
   "cell_type": "code",
   "execution_count": null,
   "id": "52e3e9ac",
   "metadata": {},
   "outputs": [],
   "source": [
    "temp[:-1]"
   ]
  },
  {
   "cell_type": "code",
   "execution_count": null,
   "id": "0f634240",
   "metadata": {},
   "outputs": [],
   "source": [
    "rd"
   ]
  },
  {
   "cell_type": "code",
   "execution_count": null,
   "id": "ac9d2047",
   "metadata": {},
   "outputs": [],
   "source": [
    "rd"
   ]
  },
  {
   "cell_type": "markdown",
   "id": "0ecc0063",
   "metadata": {},
   "source": [
    "Cette méthode peut fonction pour des variables bien dispersées à oublier dans notre cas "
   ]
  },
  {
   "cell_type": "markdown",
   "id": "96677bc1",
   "metadata": {},
   "source": [
    "#### Arbre de régression"
   ]
  },
  {
   "cell_type": "markdown",
   "id": "ad2a5d9a",
   "metadata": {},
   "source": [
    "#### Classification Ascendante hiérarchique (CAH)"
   ]
  },
  {
   "cell_type": "code",
   "execution_count": 8,
   "id": "5273567f",
   "metadata": {},
   "outputs": [
    {
     "ename": "NameError",
     "evalue": "name 'data_num' is not defined",
     "output_type": "error",
     "traceback": [
      "\u001b[1;31m---------------------------------------------------------------------------\u001b[0m",
      "\u001b[1;31mNameError\u001b[0m                                 Traceback (most recent call last)",
      "\u001b[1;32m<ipython-input-8-c8f763f180bf>\u001b[0m in \u001b[0;36m<module>\u001b[1;34m\u001b[0m\n\u001b[0;32m      1\u001b[0m \u001b[1;32mimport\u001b[0m \u001b[0mscipy\u001b[0m\u001b[1;33m.\u001b[0m\u001b[0mcluster\u001b[0m\u001b[1;33m.\u001b[0m\u001b[0mhierarchy\u001b[0m \u001b[1;32mas\u001b[0m \u001b[0msch\u001b[0m\u001b[1;33m\u001b[0m\u001b[1;33m\u001b[0m\u001b[0m\n\u001b[1;32m----> 2\u001b[1;33m \u001b[0mdendrogram\u001b[0m \u001b[1;33m=\u001b[0m \u001b[0msch\u001b[0m\u001b[1;33m.\u001b[0m\u001b[0mdendrogram\u001b[0m\u001b[1;33m(\u001b[0m\u001b[0msch\u001b[0m\u001b[1;33m.\u001b[0m\u001b[0mlinkage\u001b[0m\u001b[1;33m(\u001b[0m\u001b[0mdata_num\u001b[0m\u001b[1;33m[\u001b[0m\u001b[0mvar_to_discretize\u001b[0m\u001b[1;33m[\u001b[0m\u001b[1;36m0\u001b[0m\u001b[1;33m]\u001b[0m\u001b[1;33m]\u001b[0m\u001b[1;33m,\u001b[0m \u001b[0mmethod\u001b[0m \u001b[1;33m=\u001b[0m \u001b[1;34m'ward'\u001b[0m\u001b[1;33m)\u001b[0m\u001b[1;33m)\u001b[0m\u001b[1;33m\u001b[0m\u001b[1;33m\u001b[0m\u001b[0m\n\u001b[0m",
      "\u001b[1;31mNameError\u001b[0m: name 'data_num' is not defined"
     ]
    }
   ],
   "source": [
    "import scipy.cluster.hierarchy as sch\n",
    "dendrogram = sch.dendrogram(sch.linkage(data_num[var_to_discretize[0]], method = 'ward'))"
   ]
  },
  {
   "cell_type": "code",
   "execution_count": 7,
   "id": "e6f6c804",
   "metadata": {},
   "outputs": [
    {
     "ename": "NameError",
     "evalue": "name 'dendrogram' is not defined",
     "output_type": "error",
     "traceback": [
      "\u001b[1;31m---------------------------------------------------------------------------\u001b[0m",
      "\u001b[1;31mNameError\u001b[0m                                 Traceback (most recent call last)",
      "\u001b[1;32m<ipython-input-7-b207a91745ca>\u001b[0m in \u001b[0;36m<module>\u001b[1;34m\u001b[0m\n\u001b[1;32m----> 1\u001b[1;33m \u001b[0mdendrogram\u001b[0m\u001b[1;33m\u001b[0m\u001b[1;33m\u001b[0m\u001b[0m\n\u001b[0m",
      "\u001b[1;31mNameError\u001b[0m: name 'dendrogram' is not defined"
     ]
    }
   ],
   "source": [
    "dendrogram"
   ]
  },
  {
   "cell_type": "markdown",
   "id": "d1f75acc",
   "metadata": {},
   "source": [
    "#### Kmeans"
   ]
  },
  {
   "cell_type": "code",
   "execution_count": null,
   "id": "ca8d7e17",
   "metadata": {},
   "outputs": [],
   "source": [
    "from sklearn.preprocessing import KBinsDiscretizer\n",
    "Discretizor=KBinsDiscretizer(n_bins=bins,encode=\"ordinal\",strategy=\"kmeans\")\n",
    "Discretizor.fit_transform(data_to_discretize.iloc[:,1:])"
   ]
  },
  {
   "cell_type": "code",
   "execution_count": null,
   "id": "9e384138",
   "metadata": {},
   "outputs": [],
   "source": []
  },
  {
   "cell_type": "code",
   "execution_count": null,
   "id": "8c7e2ee3",
   "metadata": {},
   "outputs": [],
   "source": []
  },
  {
   "cell_type": "code",
   "execution_count": null,
   "id": "700fa209",
   "metadata": {},
   "outputs": [],
   "source": []
  },
  {
   "cell_type": "markdown",
   "id": "30782bba",
   "metadata": {},
   "source": [
    "## Discrétisation supervisée "
   ]
  },
  {
   "cell_type": "markdown",
   "id": "cf495a8e",
   "metadata": {},
   "source": [
    "### Méthode Livre Charpentier Actuariat avec R"
   ]
  },
  {
   "cell_type": "code",
   "execution_count": 31,
   "id": "db4b86ad",
   "metadata": {},
   "outputs": [],
   "source": [
    "age=data_num['age']"
   ]
  },
  {
   "cell_type": "code",
   "execution_count": 32,
   "id": "d5f44bda",
   "metadata": {},
   "outputs": [
    {
     "data": {
      "text/plain": [
       "[18,\n",
       " 19,\n",
       " 20,\n",
       " 21,\n",
       " 22,\n",
       " 23,\n",
       " 24,\n",
       " 25,\n",
       " 26,\n",
       " 27,\n",
       " 28,\n",
       " 29,\n",
       " 30,\n",
       " 31,\n",
       " 32,\n",
       " 33,\n",
       " 34,\n",
       " 35,\n",
       " 36,\n",
       " 37,\n",
       " 38,\n",
       " 39,\n",
       " 40,\n",
       " 41,\n",
       " 42,\n",
       " 43,\n",
       " 44,\n",
       " 45,\n",
       " 46,\n",
       " 47,\n",
       " 48,\n",
       " 49,\n",
       " 50,\n",
       " 51,\n",
       " 52,\n",
       " 53,\n",
       " 54,\n",
       " 55,\n",
       " 56,\n",
       " 57,\n",
       " 58,\n",
       " 59,\n",
       " 60,\n",
       " 61,\n",
       " 62,\n",
       " 63,\n",
       " 64,\n",
       " 65,\n",
       " 66,\n",
       " 67,\n",
       " 68,\n",
       " 69,\n",
       " 70,\n",
       " 71,\n",
       " 72,\n",
       " 73,\n",
       " 74,\n",
       " 75,\n",
       " 76,\n",
       " 77,\n",
       " 78,\n",
       " 79,\n",
       " 80,\n",
       " 81,\n",
       " 82,\n",
       " 83,\n",
       " 84,\n",
       " 85,\n",
       " 86,\n",
       " 87]"
      ]
     },
     "execution_count": 32,
     "metadata": {},
     "output_type": "execute_result"
    }
   ],
   "source": [
    "age=sorted(age.unique())\n",
    "k = 5\n",
    "classe1 =data[\"nbsin\"]"
   ]
  },
  {
   "cell_type": "code",
   "execution_count": 10,
   "id": "a0c93f6b",
   "metadata": {},
   "outputs": [
    {
     "data": {
      "text/plain": [
       "Index(['Unnamed: 0', 'numeropol', 'debut_pol', 'fin_pol', 'freq_paiement',\n",
       "       'langue', 'type_prof', 'alimentation', 'type_territoire', 'utilisation',\n",
       "       'presence_alarme', 'marque_voiture', 'sexe', 'cout1', 'cout2', 'cout3',\n",
       "       'cout4', 'nbsin', 'exposition', 'cout', 'age', 'duree_permis',\n",
       "       'annee_vehicule', 'coutsin'],\n",
       "      dtype='object')"
      ]
     },
     "execution_count": 10,
     "metadata": {},
     "output_type": "execute_result"
    }
   ],
   "source": [
    "data.columns"
   ]
  },
  {
   "cell_type": "code",
   "execution_count": 14,
   "id": "870a9e45",
   "metadata": {},
   "outputs": [],
   "source": [
    "import pandas as pd \n",
    "data=data=pd.read_csv(\"BASE_DEF.csv\")\n",
    "data_to_discretize=data[[\"age\",\"duree_permis\"]]\n",
    "\n",
    "#Nombres de classes\n",
    "bins=5"
   ]
  },
  {
   "cell_type": "code",
   "execution_count": 16,
   "id": "3af7dbfc",
   "metadata": {},
   "outputs": [
    {
     "data": {
      "text/html": [
       "<div>\n",
       "<style scoped>\n",
       "    .dataframe tbody tr th:only-of-type {\n",
       "        vertical-align: middle;\n",
       "    }\n",
       "\n",
       "    .dataframe tbody tr th {\n",
       "        vertical-align: top;\n",
       "    }\n",
       "\n",
       "    .dataframe thead th {\n",
       "        text-align: right;\n",
       "    }\n",
       "</style>\n",
       "<table border=\"1\" class=\"dataframe\">\n",
       "  <thead>\n",
       "    <tr style=\"text-align: right;\">\n",
       "      <th></th>\n",
       "      <th>age</th>\n",
       "      <th>duree_permis</th>\n",
       "    </tr>\n",
       "  </thead>\n",
       "  <tbody>\n",
       "    <tr>\n",
       "      <th>count</th>\n",
       "      <td>39075.000000</td>\n",
       "      <td>39075.000000</td>\n",
       "    </tr>\n",
       "    <tr>\n",
       "      <th>mean</th>\n",
       "      <td>45.590633</td>\n",
       "      <td>22.151017</td>\n",
       "    </tr>\n",
       "    <tr>\n",
       "      <th>std</th>\n",
       "      <td>12.057312</td>\n",
       "      <td>9.112956</td>\n",
       "    </tr>\n",
       "    <tr>\n",
       "      <th>min</th>\n",
       "      <td>18.000000</td>\n",
       "      <td>0.000000</td>\n",
       "    </tr>\n",
       "    <tr>\n",
       "      <th>25%</th>\n",
       "      <td>36.000000</td>\n",
       "      <td>15.000000</td>\n",
       "    </tr>\n",
       "    <tr>\n",
       "      <th>50%</th>\n",
       "      <td>44.000000</td>\n",
       "      <td>22.000000</td>\n",
       "    </tr>\n",
       "    <tr>\n",
       "      <th>75%</th>\n",
       "      <td>54.000000</td>\n",
       "      <td>30.000000</td>\n",
       "    </tr>\n",
       "    <tr>\n",
       "      <th>max</th>\n",
       "      <td>87.000000</td>\n",
       "      <td>77.000000</td>\n",
       "    </tr>\n",
       "    <tr>\n",
       "      <th>rsd</th>\n",
       "      <td>26.446905</td>\n",
       "      <td>41.140122</td>\n",
       "    </tr>\n",
       "  </tbody>\n",
       "</table>\n",
       "</div>"
      ],
      "text/plain": [
       "                age  duree_permis\n",
       "count  39075.000000  39075.000000\n",
       "mean      45.590633     22.151017\n",
       "std       12.057312      9.112956\n",
       "min       18.000000      0.000000\n",
       "25%       36.000000     15.000000\n",
       "50%       44.000000     22.000000\n",
       "75%       54.000000     30.000000\n",
       "max       87.000000     77.000000\n",
       "rsd       26.446905     41.140122"
      ]
     },
     "execution_count": 16,
     "metadata": {},
     "output_type": "execute_result"
    }
   ],
   "source": [
    "#summary statistics\n",
    "summary=data_to_discretize.describe()\n",
    "#add relative standard deviation\n",
    "summary.loc[\"rsd\"]=(summary.loc['std']/summary.loc['mean'])*100\n",
    "summary\n",
    "\n"
   ]
  },
  {
   "cell_type": "code",
   "execution_count": 42,
   "id": "ebee1b9a",
   "metadata": {},
   "outputs": [
    {
     "data": {
      "text/html": [
       "<div>\n",
       "<style scoped>\n",
       "    .dataframe tbody tr th:only-of-type {\n",
       "        vertical-align: middle;\n",
       "    }\n",
       "\n",
       "    .dataframe tbody tr th {\n",
       "        vertical-align: top;\n",
       "    }\n",
       "\n",
       "    .dataframe thead th {\n",
       "        text-align: right;\n",
       "    }\n",
       "</style>\n",
       "<table border=\"1\" class=\"dataframe\">\n",
       "  <thead>\n",
       "    <tr style=\"text-align: right;\">\n",
       "      <th></th>\n",
       "      <th>age</th>\n",
       "      <th>duree_permis</th>\n",
       "    </tr>\n",
       "  </thead>\n",
       "  <tbody>\n",
       "    <tr>\n",
       "      <th>0</th>\n",
       "      <td>0</td>\n",
       "      <td>0</td>\n",
       "    </tr>\n",
       "    <tr>\n",
       "      <th>1</th>\n",
       "      <td>0</td>\n",
       "      <td>0</td>\n",
       "    </tr>\n",
       "    <tr>\n",
       "      <th>2</th>\n",
       "      <td>1</td>\n",
       "      <td>1</td>\n",
       "    </tr>\n",
       "    <tr>\n",
       "      <th>3</th>\n",
       "      <td>1</td>\n",
       "      <td>1</td>\n",
       "    </tr>\n",
       "    <tr>\n",
       "      <th>4</th>\n",
       "      <td>1</td>\n",
       "      <td>1</td>\n",
       "    </tr>\n",
       "  </tbody>\n",
       "</table>\n",
       "</div>"
      ],
      "text/plain": [
       "   age  duree_permis\n",
       "0    0             0\n",
       "1    0             0\n",
       "2    1             1\n",
       "3    1             1\n",
       "4    1             1"
      ]
     },
     "execution_count": 42,
     "metadata": {},
     "output_type": "execute_result"
    }
   ],
   "source": [
    "#Stratégie : Uniforme\n",
    "from sklearn.preprocessing import KBinsDiscretizer\n",
    "Discretizor=KBinsDiscretizer(n_bins=bins,encode=\"ordinal\",strategy=\"uniform\")\n",
    "Discretizor.fit_transform(data_to_discretize)\n",
    "\n",
    "#meilleur vue du résultat\n",
    "df_disc_uni=pd.DataFrame(Discretizor.fit_transform(data_to_discretize),columns=data_to_discretize.columns,dtype=\"int\")\n",
    "df_disc_uni.head()"
   ]
  },
  {
   "cell_type": "code",
   "execution_count": 41,
   "id": "96a7c2d6",
   "metadata": {},
   "outputs": [
    {
     "data": {
      "text/html": [
       "<div>\n",
       "<style scoped>\n",
       "    .dataframe tbody tr th:only-of-type {\n",
       "        vertical-align: middle;\n",
       "    }\n",
       "\n",
       "    .dataframe tbody tr th {\n",
       "        vertical-align: top;\n",
       "    }\n",
       "\n",
       "    .dataframe thead th {\n",
       "        text-align: right;\n",
       "    }\n",
       "</style>\n",
       "<table border=\"1\" class=\"dataframe\">\n",
       "  <thead>\n",
       "    <tr style=\"text-align: right;\">\n",
       "      <th></th>\n",
       "      <th>age</th>\n",
       "      <th>duree_permis</th>\n",
       "    </tr>\n",
       "  </thead>\n",
       "  <tbody>\n",
       "    <tr>\n",
       "      <th>0</th>\n",
       "      <td>0</td>\n",
       "      <td>0</td>\n",
       "    </tr>\n",
       "    <tr>\n",
       "      <th>1</th>\n",
       "      <td>0</td>\n",
       "      <td>0</td>\n",
       "    </tr>\n",
       "    <tr>\n",
       "      <th>2</th>\n",
       "      <td>2</td>\n",
       "      <td>2</td>\n",
       "    </tr>\n",
       "    <tr>\n",
       "      <th>3</th>\n",
       "      <td>2</td>\n",
       "      <td>2</td>\n",
       "    </tr>\n",
       "    <tr>\n",
       "      <th>4</th>\n",
       "      <td>2</td>\n",
       "      <td>2</td>\n",
       "    </tr>\n",
       "  </tbody>\n",
       "</table>\n",
       "</div>"
      ],
      "text/plain": [
       "   age  duree_permis\n",
       "0    0             0\n",
       "1    0             0\n",
       "2    2             2\n",
       "3    2             2\n",
       "4    2             2"
      ]
     },
     "execution_count": 41,
     "metadata": {},
     "output_type": "execute_result"
    }
   ],
   "source": [
    "#stratégie : quantile\n",
    "from sklearn.preprocessing import KBinsDiscretizer\n",
    "Discretizor=KBinsDiscretizer(n_bins=bins,encode=\"ordinal\",strategy=\"quantile\")\n",
    "Discretizor.fit_transform(data_to_discretize)\n",
    "\n",
    "#meilleur vue du résultat\n",
    "df_disc_qt=pd.DataFrame(Discretizor.fit_transform(data_to_discretize),columns=data_to_discretize.columns,dtype=\"int\")\n",
    "df_disc_qt.head()"
   ]
  },
  {
   "cell_type": "code",
   "execution_count": 49,
   "id": "f1a46c93",
   "metadata": {},
   "outputs": [
    {
     "data": {
      "text/html": [
       "<div>\n",
       "<style scoped>\n",
       "    .dataframe tbody tr th:only-of-type {\n",
       "        vertical-align: middle;\n",
       "    }\n",
       "\n",
       "    .dataframe tbody tr th {\n",
       "        vertical-align: top;\n",
       "    }\n",
       "\n",
       "    .dataframe thead th {\n",
       "        text-align: right;\n",
       "    }\n",
       "</style>\n",
       "<table border=\"1\" class=\"dataframe\">\n",
       "  <thead>\n",
       "    <tr style=\"text-align: right;\">\n",
       "      <th></th>\n",
       "      <th>age</th>\n",
       "      <th>duree_permis</th>\n",
       "    </tr>\n",
       "  </thead>\n",
       "  <tbody>\n",
       "    <tr>\n",
       "      <th>0</th>\n",
       "      <td>0</td>\n",
       "      <td>0</td>\n",
       "    </tr>\n",
       "    <tr>\n",
       "      <th>1</th>\n",
       "      <td>0</td>\n",
       "      <td>0</td>\n",
       "    </tr>\n",
       "    <tr>\n",
       "      <th>2</th>\n",
       "      <td>1</td>\n",
       "      <td>1</td>\n",
       "    </tr>\n",
       "    <tr>\n",
       "      <th>3</th>\n",
       "      <td>1</td>\n",
       "      <td>1</td>\n",
       "    </tr>\n",
       "    <tr>\n",
       "      <th>4</th>\n",
       "      <td>1</td>\n",
       "      <td>1</td>\n",
       "    </tr>\n",
       "  </tbody>\n",
       "</table>\n",
       "</div>"
      ],
      "text/plain": [
       "   age  duree_permis\n",
       "0    0             0\n",
       "1    0             0\n",
       "2    1             1\n",
       "3    1             1\n",
       "4    1             1"
      ]
     },
     "execution_count": 49,
     "metadata": {},
     "output_type": "execute_result"
    }
   ],
   "source": [
    "#stratégie : Kmeans\n",
    "from sklearn.preprocessing import KBinsDiscretizer\n",
    "Discretizor=KBinsDiscretizer(n_bins=bins,encode=\"ordinal\",strategy=\"kmeans\")\n",
    "Discretizor.fit_transform(data_to_discretize)\n",
    "\n",
    "#meilleur vue du résultat\n",
    "df_disc_kmeans=pd.DataFrame(Discretizor.fit_transform(data_to_discretize),columns=data_to_discretize.columns,dtype=\"int\")\n",
    "df_disc_kmeans.head()"
   ]
  },
  {
   "cell_type": "code",
   "execution_count": 64,
   "id": "85d671fc",
   "metadata": {},
   "outputs": [
    {
     "data": {
      "text/html": [
       "<div>\n",
       "<style scoped>\n",
       "    .dataframe tbody tr th:only-of-type {\n",
       "        vertical-align: middle;\n",
       "    }\n",
       "\n",
       "    .dataframe tbody tr th {\n",
       "        vertical-align: top;\n",
       "    }\n",
       "\n",
       "    .dataframe thead th {\n",
       "        text-align: right;\n",
       "    }\n",
       "</style>\n",
       "<table border=\"1\" class=\"dataframe\">\n",
       "  <thead>\n",
       "    <tr style=\"text-align: right;\">\n",
       "      <th></th>\n",
       "      <th>age</th>\n",
       "      <th>duree_permis</th>\n",
       "    </tr>\n",
       "  </thead>\n",
       "  <tbody>\n",
       "    <tr>\n",
       "      <th>0</th>\n",
       "      <td>20-30</td>\n",
       "      <td>0-15</td>\n",
       "    </tr>\n",
       "    <tr>\n",
       "      <th>1</th>\n",
       "      <td>20-30</td>\n",
       "      <td>0-15</td>\n",
       "    </tr>\n",
       "    <tr>\n",
       "      <th>2</th>\n",
       "      <td>30-50</td>\n",
       "      <td>15-22</td>\n",
       "    </tr>\n",
       "    <tr>\n",
       "      <th>3</th>\n",
       "      <td>30-50</td>\n",
       "      <td>15-22</td>\n",
       "    </tr>\n",
       "    <tr>\n",
       "      <th>4</th>\n",
       "      <td>30-50</td>\n",
       "      <td>22-30</td>\n",
       "    </tr>\n",
       "  </tbody>\n",
       "</table>\n",
       "</div>"
      ],
      "text/plain": [
       "     age duree_permis\n",
       "0  20-30         0-15\n",
       "1  20-30         0-15\n",
       "2  30-50        15-22\n",
       "3  30-50        15-22\n",
       "4  30-50        22-30"
      ]
     },
     "execution_count": 64,
     "metadata": {},
     "output_type": "execute_result"
    }
   ],
   "source": [
    "from sklearn.preprocessing  import FunctionTransformer\n",
    "\n",
    "#intervalles des classes et noms\n",
    "bins_age= [18,20,30,50,60,np.inf]\n",
    "bins_duree_permis= [0,15,22,30,np.inf]\n",
    "labels_age = ['18-20', '20-30','30-50','50-60', '60-plus']\n",
    "labels_duree_permis = ['0-15', '15-22','22-30','30-plus']\n",
    "bins=[bins_age,bins_duree_permis]\n",
    "labels=[labels_age,labels_duree_permis]\n",
    "\n",
    "df_disc=data_to_discretize.copy() #copie du tableau à discrétiser\n",
    "var_to_discretize=data_to_discretize.columns\n",
    "for bins,labels,var in zip(bins,labels,var_to_discretize):\n",
    "    transformer = FunctionTransformer( pd.cut, kw_args={'bins': bins , 'labels': labels , 'retbins': False})\n",
    "    df_disc[var]=transformer.fit_transform(df_disc[var])\n",
    "\n",
    "#Affichage des 5 premières lignes\n",
    "df_disc.head()"
   ]
  },
  {
   "cell_type": "code",
   "execution_count": 47,
   "id": "9c98bbaa",
   "metadata": {},
   "outputs": [
    {
     "data": {
      "text/plain": [
       "18"
      ]
     },
     "execution_count": 47,
     "metadata": {},
     "output_type": "execute_result"
    }
   ],
   "source": []
  },
  {
   "cell_type": "code",
   "execution_count": null,
   "id": "e3f415d4",
   "metadata": {},
   "outputs": [],
   "source": []
  },
  {
   "cell_type": "code",
   "execution_count": null,
   "id": "158a29b5",
   "metadata": {},
   "outputs": [],
   "source": []
  },
  {
   "cell_type": "code",
   "execution_count": null,
   "id": "1f4637d4",
   "metadata": {},
   "outputs": [],
   "source": []
  },
  {
   "cell_type": "code",
   "execution_count": null,
   "id": "d7a24187",
   "metadata": {},
   "outputs": [],
   "source": []
  },
  {
   "cell_type": "code",
   "execution_count": 26,
   "id": "ee67b827",
   "metadata": {},
   "outputs": [],
   "source": [
    "from sklearn.datasets import load_iris"
   ]
  },
  {
   "cell_type": "code",
   "execution_count": 27,
   "id": "af33d16b",
   "metadata": {},
   "outputs": [],
   "source": [
    "exemple=load_iris()"
   ]
  },
  {
   "cell_type": "code",
   "execution_count": 58,
   "id": "482710d1",
   "metadata": {},
   "outputs": [],
   "source": [
    "name_columns=exemple.feature_names\n",
    "name_columns.append(\"target\")"
   ]
  },
  {
   "cell_type": "code",
   "execution_count": 59,
   "id": "0e7ffa86",
   "metadata": {},
   "outputs": [],
   "source": [
    "data1=pd.DataFrame(np.concatenate((exemple.data,exemple.target.reshape(150,1)),axis=1),columns=name_columns)"
   ]
  },
  {
   "cell_type": "code",
   "execution_count": 46,
   "id": "02379855",
   "metadata": {},
   "outputs": [
    {
     "data": {
      "text/plain": [
       "(150, 4)"
      ]
     },
     "execution_count": 46,
     "metadata": {},
     "output_type": "execute_result"
    }
   ],
   "source": [
    "exemple.data.shape"
   ]
  },
  {
   "cell_type": "code",
   "execution_count": 42,
   "id": "0f390cb5",
   "metadata": {},
   "outputs": [],
   "source": [
    "u=exemple.target"
   ]
  },
  {
   "cell_type": "code",
   "execution_count": 24,
   "id": "4deb02d2",
   "metadata": {},
   "outputs": [],
   "source": [
    "data1=pd.DataFrame(exemple.data,columns=exemple.feature_names)"
   ]
  },
  {
   "cell_type": "code",
   "execution_count": 100,
   "id": "583f0b53",
   "metadata": {},
   "outputs": [
    {
     "data": {
      "text/plain": [
       "30"
      ]
     },
     "execution_count": 100,
     "metadata": {},
     "output_type": "execute_result"
    }
   ],
   "source": [
    "len(var)"
   ]
  },
  {
   "cell_type": "code",
   "execution_count": 76,
   "id": "3d616e97",
   "metadata": {
    "scrolled": false
   },
   "outputs": [
    {
     "data": {
      "text/plain": [
       "Text(0, 0.5, 'Variable à discretiser')"
      ]
     },
     "execution_count": 76,
     "metadata": {},
     "output_type": "execute_result"
    },
    {
     "data": {
      "image/png": "[encoded data removed]",
      "text/plain": [
       "<Figure size 720x576 with 1 Axes>"
      ]
     },
     "metadata": {
      "needs_background": "light"
     },
     "output_type": "display_data"
    }
   ],
   "source": [
    "var=[1,1.5,2,3.5,3.9,4,4.2,4.5,5,5.1,5.5,6,6.2,6.5,6.8,12,12.5,12.8,13.4,13.8,14,14.6,14.9,15.5,20,20.5,21,21.8,23,23.5]\n",
    "plt.style.use('seaborn-talk')\n",
    "plt.figure(figsize=(10,8))\n",
    "plt.scatter(x,var,c=\"blue\")\n",
    "plt.ylabel(\"Variable à discretiser\")"
   ]
  },
  {
   "cell_type": "code",
   "execution_count": 134,
   "id": "4fe4f267",
   "metadata": {},
   "outputs": [
    {
     "data": {
      "text/plain": [
       "array([ 1,  2,  3,  4,  5,  6,  7,  8,  9, 10, 11, 12, 13, 14, 15, 16, 17,\n",
       "       18, 19, 20, 21, 22, 23, 24, 25, 26, 27, 28, 29, 30])"
      ]
     },
     "execution_count": 134,
     "metadata": {},
     "output_type": "execute_result"
    }
   ],
   "source": [
    "x1=np.arange(1,31)\n",
    "x1"
   ]
  },
  {
   "cell_type": "code",
   "execution_count": 65,
   "id": "4a81f290",
   "metadata": {},
   "outputs": [],
   "source": [
    "x=np.linspace(1,50,30)+np.random.randn(30,1).flatten()\n",
    "temp=np.array([0,1,2])\n",
    "y=np.repeat(temp, [10,13,7], axis=0)"
   ]
  },
  {
   "cell_type": "code",
   "execution_count": 66,
   "id": "71096414",
   "metadata": {},
   "outputs": [],
   "source": [
    "dic={\"Variable à discretiser\":x,\"groupes\":y}"
   ]
  },
  {
   "cell_type": "code",
   "execution_count": 154,
   "id": "f5831fc5",
   "metadata": {},
   "outputs": [
    {
     "data": {
      "text/plain": [
       "(30,)"
      ]
     },
     "execution_count": 154,
     "metadata": {},
     "output_type": "execute_result"
    }
   ],
   "source": [
    "x.shape"
   ]
  },
  {
   "cell_type": "code",
   "execution_count": 68,
   "id": "80601772",
   "metadata": {},
   "outputs": [],
   "source": [
    "data2=pd.DataFrame(dic)"
   ]
  },
  {
   "cell_type": "code",
   "execution_count": 69,
   "id": "2bed70fa",
   "metadata": {},
   "outputs": [],
   "source": [
    "data2.iloc[1:3,1]=1"
   ]
  },
  {
   "cell_type": "code",
   "execution_count": 70,
   "id": "7d38fc02",
   "metadata": {},
   "outputs": [
    {
     "data": {
      "text/html": [
       "<div>\n",
       "<style scoped>\n",
       "    .dataframe tbody tr th:only-of-type {\n",
       "        vertical-align: middle;\n",
       "    }\n",
       "\n",
       "    .dataframe tbody tr th {\n",
       "        vertical-align: top;\n",
       "    }\n",
       "\n",
       "    .dataframe thead th {\n",
       "        text-align: right;\n",
       "    }\n",
       "</style>\n",
       "<table border=\"1\" class=\"dataframe\">\n",
       "  <thead>\n",
       "    <tr style=\"text-align: right;\">\n",
       "      <th></th>\n",
       "      <th>Variable à discretiser</th>\n",
       "      <th>groupes</th>\n",
       "    </tr>\n",
       "  </thead>\n",
       "  <tbody>\n",
       "    <tr>\n",
       "      <th>0</th>\n",
       "      <td>0.808633</td>\n",
       "      <td>0</td>\n",
       "    </tr>\n",
       "    <tr>\n",
       "      <th>1</th>\n",
       "      <td>4.353758</td>\n",
       "      <td>1</td>\n",
       "    </tr>\n",
       "    <tr>\n",
       "      <th>2</th>\n",
       "      <td>4.964685</td>\n",
       "      <td>1</td>\n",
       "    </tr>\n",
       "    <tr>\n",
       "      <th>3</th>\n",
       "      <td>6.841890</td>\n",
       "      <td>0</td>\n",
       "    </tr>\n",
       "    <tr>\n",
       "      <th>4</th>\n",
       "      <td>9.954679</td>\n",
       "      <td>0</td>\n",
       "    </tr>\n",
       "    <tr>\n",
       "      <th>5</th>\n",
       "      <td>9.520480</td>\n",
       "      <td>0</td>\n",
       "    </tr>\n",
       "    <tr>\n",
       "      <th>6</th>\n",
       "      <td>8.563594</td>\n",
       "      <td>0</td>\n",
       "    </tr>\n",
       "    <tr>\n",
       "      <th>7</th>\n",
       "      <td>12.978699</td>\n",
       "      <td>0</td>\n",
       "    </tr>\n",
       "    <tr>\n",
       "      <th>8</th>\n",
       "      <td>13.834237</td>\n",
       "      <td>0</td>\n",
       "    </tr>\n",
       "    <tr>\n",
       "      <th>9</th>\n",
       "      <td>15.133537</td>\n",
       "      <td>0</td>\n",
       "    </tr>\n",
       "    <tr>\n",
       "      <th>10</th>\n",
       "      <td>19.951219</td>\n",
       "      <td>1</td>\n",
       "    </tr>\n",
       "    <tr>\n",
       "      <th>11</th>\n",
       "      <td>18.832022</td>\n",
       "      <td>1</td>\n",
       "    </tr>\n",
       "    <tr>\n",
       "      <th>12</th>\n",
       "      <td>20.269573</td>\n",
       "      <td>1</td>\n",
       "    </tr>\n",
       "    <tr>\n",
       "      <th>13</th>\n",
       "      <td>23.086485</td>\n",
       "      <td>1</td>\n",
       "    </tr>\n",
       "    <tr>\n",
       "      <th>14</th>\n",
       "      <td>25.297234</td>\n",
       "      <td>1</td>\n",
       "    </tr>\n",
       "    <tr>\n",
       "      <th>15</th>\n",
       "      <td>25.345752</td>\n",
       "      <td>1</td>\n",
       "    </tr>\n",
       "    <tr>\n",
       "      <th>16</th>\n",
       "      <td>29.616088</td>\n",
       "      <td>1</td>\n",
       "    </tr>\n",
       "    <tr>\n",
       "      <th>17</th>\n",
       "      <td>30.264404</td>\n",
       "      <td>1</td>\n",
       "    </tr>\n",
       "    <tr>\n",
       "      <th>18</th>\n",
       "      <td>31.273470</td>\n",
       "      <td>1</td>\n",
       "    </tr>\n",
       "    <tr>\n",
       "      <th>19</th>\n",
       "      <td>32.469313</td>\n",
       "      <td>1</td>\n",
       "    </tr>\n",
       "    <tr>\n",
       "      <th>20</th>\n",
       "      <td>33.536414</td>\n",
       "      <td>1</td>\n",
       "    </tr>\n",
       "    <tr>\n",
       "      <th>21</th>\n",
       "      <td>36.223671</td>\n",
       "      <td>1</td>\n",
       "    </tr>\n",
       "    <tr>\n",
       "      <th>22</th>\n",
       "      <td>38.633239</td>\n",
       "      <td>1</td>\n",
       "    </tr>\n",
       "    <tr>\n",
       "      <th>23</th>\n",
       "      <td>40.293387</td>\n",
       "      <td>2</td>\n",
       "    </tr>\n",
       "    <tr>\n",
       "      <th>24</th>\n",
       "      <td>40.620614</td>\n",
       "      <td>2</td>\n",
       "    </tr>\n",
       "    <tr>\n",
       "      <th>25</th>\n",
       "      <td>44.335175</td>\n",
       "      <td>2</td>\n",
       "    </tr>\n",
       "    <tr>\n",
       "      <th>26</th>\n",
       "      <td>46.291426</td>\n",
       "      <td>2</td>\n",
       "    </tr>\n",
       "    <tr>\n",
       "      <th>27</th>\n",
       "      <td>47.043614</td>\n",
       "      <td>2</td>\n",
       "    </tr>\n",
       "    <tr>\n",
       "      <th>28</th>\n",
       "      <td>49.700556</td>\n",
       "      <td>2</td>\n",
       "    </tr>\n",
       "    <tr>\n",
       "      <th>29</th>\n",
       "      <td>51.220135</td>\n",
       "      <td>2</td>\n",
       "    </tr>\n",
       "  </tbody>\n",
       "</table>\n",
       "</div>"
      ],
      "text/plain": [
       "    Variable à discretiser  groupes\n",
       "0                 0.808633        0\n",
       "1                 4.353758        1\n",
       "2                 4.964685        1\n",
       "3                 6.841890        0\n",
       "4                 9.954679        0\n",
       "5                 9.520480        0\n",
       "6                 8.563594        0\n",
       "7                12.978699        0\n",
       "8                13.834237        0\n",
       "9                15.133537        0\n",
       "10               19.951219        1\n",
       "11               18.832022        1\n",
       "12               20.269573        1\n",
       "13               23.086485        1\n",
       "14               25.297234        1\n",
       "15               25.345752        1\n",
       "16               29.616088        1\n",
       "17               30.264404        1\n",
       "18               31.273470        1\n",
       "19               32.469313        1\n",
       "20               33.536414        1\n",
       "21               36.223671        1\n",
       "22               38.633239        1\n",
       "23               40.293387        2\n",
       "24               40.620614        2\n",
       "25               44.335175        2\n",
       "26               46.291426        2\n",
       "27               47.043614        2\n",
       "28               49.700556        2\n",
       "29               51.220135        2"
      ]
     },
     "execution_count": 70,
     "metadata": {},
     "output_type": "execute_result"
    }
   ],
   "source": [
    "data2"
   ]
  },
  {
   "cell_type": "code",
   "execution_count": 71,
   "id": "0829fe35",
   "metadata": {},
   "outputs": [
    {
     "ename": "SyntaxError",
     "evalue": "invalid syntax (<ipython-input-71-96cd4e59de7d>, line 3)",
     "output_type": "error",
     "traceback": [
      "\u001b[1;36m  File \u001b[1;32m\"<ipython-input-71-96cd4e59de7d>\"\u001b[1;36m, line \u001b[1;32m3\u001b[0m\n\u001b[1;33m    plt.scatter(x1,x,c=y,label={0:})\u001b[0m\n\u001b[1;37m                                  ^\u001b[0m\n\u001b[1;31mSyntaxError\u001b[0m\u001b[1;31m:\u001b[0m invalid syntax\n"
     ]
    }
   ],
   "source": [
    "plt.style.use('seaborn-talk')\n",
    "plt.figure(figsize=(10,8))\n",
    "plt.scatter(x1,x,c=y,label={0:})\n",
    "for i, txt in enumerate(s):\n",
    "    plt.annotate(txt, (x1[i], x[i]))\n",
    "plt.xlabel(\"variable à discretiser\")\n",
    "plt.legend()"
   ]
  },
  {
   "cell_type": "code",
   "execution_count": 79,
   "id": "bced364d",
   "metadata": {},
   "outputs": [
    {
     "data": {
      "text/plain": [
       "<AxesSubplot:ylabel='Variable à discretiser'>"
      ]
     },
     "execution_count": 79,
     "metadata": {},
     "output_type": "execute_result"
    },
    {
     "data": {
      "image/png": "[encoded data removed]",
      "text/plain": [
       "<Figure size 748.8x514.8 with 1 Axes>"
      ]
     },
     "metadata": {
      "needs_background": "light"
     },
     "output_type": "display_data"
    }
   ],
   "source": [
    "sns.scatterplot(x=data2.index,y=\"Variable à discretiser\",hue=\"groupes\",palette=\"deep\",data=data2)"
   ]
  }
 ],
 "metadata": {
  "kernelspec": {
   "display_name": "Python 3",
   "language": "python",
   "name": "python3"
  },
  "language_info": {
   "codemirror_mode": {
    "name": "ipython",
    "version": 3
   },
   "file_extension": ".py",
   "mimetype": "text/x-python",
   "name": "python",
   "nbconvert_exporter": "python",
   "pygments_lexer": "ipython3",
   "version": "3.8.8"
  }
 },
 "nbformat": 4,
 "nbformat_minor": 5
}
